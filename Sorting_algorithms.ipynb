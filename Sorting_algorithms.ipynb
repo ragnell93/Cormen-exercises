{
 "cells": [
  {
   "cell_type": "code",
   "execution_count": 1,
   "metadata": {},
   "outputs": [],
   "source": [
    "import sys\n",
    "import math as m\n",
    "from random import randint"
   ]
  },
  {
   "cell_type": "code",
   "execution_count": 3,
   "metadata": {},
   "outputs": [],
   "source": [
    "def insertion_sort(a):\n",
    "\n",
    "    #Sorts array a with insertion sort in O(n^2)\n",
    "\n",
    "    for j in range(0,len(a)):\n",
    "        key = a[j]\n",
    "        i = j - 1\n",
    "        while (i >= 0) and (a[i] > key):\n",
    "            a[i+1] = a[i]\n",
    "            i -= 1\n",
    "        a[i+1] = key"
   ]
  },
  {
   "cell_type": "code",
   "execution_count": 4,
   "metadata": {},
   "outputs": [],
   "source": [
    "class Merge():\n",
    "\n",
    "    #Implements merge sort\n",
    "\n",
    "    def __init__(self,a):\n",
    "        #Sets the array to be ordered\n",
    "        self.a = a\n",
    "\n",
    "    def merge(self,p,q,r):\n",
    "\n",
    "        #The combine step of merge sort\n",
    "\n",
    "        n1 = q - p + 1 \n",
    "        n2 = r - q\n",
    "        L = []\n",
    "        R = []\n",
    "\n",
    "        for i in range(0,n1):\n",
    "            L.append(self.a[p+i])\n",
    "\n",
    "        for j in range(0,n2):\n",
    "            R.append(self.a[q+j+1])\n",
    "\n",
    "        i = 0\n",
    "        j = 0\n",
    "\n",
    "        for k in range(p,r+1):\n",
    "\n",
    "            if (i < n1) and (j < n2):\n",
    "                if (L[i] <= R[j]):\n",
    "                    self.a[k] = L[i]\n",
    "                    i += 1\n",
    "                elif (R[j] <= L[i]):\n",
    "                    self.a[k] = R[j]\n",
    "                    j += 1\n",
    "            elif (i >= n1):\n",
    "                self.a[k] = R[j]\n",
    "                j += 1\n",
    "            elif (j >= n2):\n",
    "                self.a[k] = L[i]\n",
    "                i += 1\n",
    "            else: \n",
    "                print(\"error en las cuentas\")\n",
    "\n",
    "\n",
    "    def merge_sort(self,p,r):\n",
    "\n",
    "        if p < r:\n",
    "            q = m.floor((p+r)/2)\n",
    "            self.merge_sort(p,q)\n",
    "            self.merge_sort(q+1,r)\n",
    "            self.merge(p,q,r)"
   ]
  },
  {
   "cell_type": "code",
   "execution_count": 5,
   "metadata": {},
   "outputs": [],
   "source": [
    "class Max_Heap():\n",
    "\n",
    "    #Implements a Heap and some operations inherent to the structure\n",
    "\n",
    "    def __init__(self,a):\n",
    "        self.heap = a\n",
    "        self.heapSize = len(a)\n",
    "        self.maxSize = len(a)\n",
    "\n",
    "    def parent(self,i):\n",
    "        #Return the parent of node i\n",
    "        return m.floor((i-1)/2)\n",
    "\n",
    "    def left(self,i):\n",
    "        #Return left child of node i\n",
    "        return 2*i+1\n",
    "\n",
    "    def right(self,i):\n",
    "        #Return right child of node i\n",
    "        return 2*i+2\n",
    "\n",
    "    def max_heapify(self,i):\n",
    "        #Make the subtree in the ith node a max heap\n",
    "        l = self.left(i)\n",
    "        r = self.right(i)\n",
    "\n",
    "        if l < self.heapSize and self.heap[l] > self.heap[i]:\n",
    "            largest = l\t\n",
    "        else:\n",
    "            largest = i\n",
    "\n",
    "        if r < self.heapSize and self.heap[r] > self.heap[largest]:\n",
    "            largest = r\n",
    "\n",
    "        if largest != i:\n",
    "            aux = self.heap[i]\n",
    "            self.heap[i] = self.heap[largest]\n",
    "            self.heap[largest] = aux\n",
    "            self.max_heapify(largest)\n",
    "\n",
    "    def build_max_heap(self):\n",
    "        #Build a max heap from the original array\n",
    "        for i in range(m.floor(self.heapSize/2)-1,-1,-1):\n",
    "            self.max_heapify(i)\n",
    "\n",
    "    def heap_sort(self):\n",
    "        #Sorts the initial array using a heap\n",
    "        self.build_max_heap()\n",
    "        for i in range(self.maxSize-1,0,-1):\n",
    "            aux = self.heap[0]\n",
    "            self.heap[0] = self.heap[i]\n",
    "            self.heap[i] = aux\n",
    "            self.heapSize -= 1\n",
    "            self.max_heapify(0)"
   ]
  },
  {
   "cell_type": "code",
   "execution_count": 6,
   "metadata": {},
   "outputs": [],
   "source": [
    "class Priority_Queue(Max_Heap):\n",
    "\n",
    "    #Priority queue based in a max heap\n",
    "\n",
    "    def __init__(self,a):\n",
    "        super().__init__(a)\n",
    "        self.build_max_heap()\n",
    "\n",
    "    def heap_maximum(self):\n",
    "        #Returns the first element\n",
    "        return self.heap[0]\n",
    "\n",
    "    def heap_extract_max(self):\n",
    "        #Extracts and return the first element of the queue\n",
    "        if self.heapSize < 0:\n",
    "            print(\"heap underflow\")\n",
    "\n",
    "        max = self.heap[0]\n",
    "        self.heap[0] = self.heap[self.heapSize-1]\n",
    "        self.heapSize -= 1 \n",
    "        self.max_heapify(0)\n",
    "        return max\n",
    "\n",
    "    def heap_increase_key(self,i,key):\n",
    "        #Increase the key of an element in the priority queue\n",
    "        if key < self.heap[i]:\n",
    "            print(\"new key is smaller than current key\")\n",
    "        self.heap[i] = key\n",
    "        while i > 0 and self.heap[self.parent(i)] < self.heap[i]:\n",
    "            aux = self.heap[i]\n",
    "            self.heap[i] = self.heap[self.parent(i)]\n",
    "            self.heap[self.parent(i)] = aux\n",
    "            i = self.parent(i)\n",
    "\n",
    "    def max_heap_insert(self,key):\n",
    "        self.heapSize += 1\n",
    "        if self.heapSize <= self.maxSize:\n",
    "            self.heap[self.heapSize-1] = -1000\n",
    "        else:\n",
    "            self.maxSize += 1\n",
    "            self.heap.append(-1000)\n",
    "        self.heap_increase_key(self.heapSize-1,key)"
   ]
  },
  {
   "cell_type": "code",
   "execution_count": 7,
   "metadata": {},
   "outputs": [],
   "source": [
    "class Quick_sort():\n",
    "\n",
    "    def __init__(self,a):\t\n",
    "        #Sets the array to be ordered\n",
    "        self.a = a\n",
    "\n",
    "    def partition(self,p,r):\n",
    "        #Rearranges the subarray A[p..r]\n",
    "        x = self.a[r]\n",
    "        i = p-1\n",
    "        for j in range(p,r):\n",
    "            if self.a[j] <= x:\n",
    "                i = i + 1\n",
    "                aux = self.a[i]\n",
    "                self.a[i] = self.a[j]\n",
    "                self.a[j] = aux\n",
    "        aux = self.a[r]\n",
    "        self.a[r] = self.a[i+1]\n",
    "        self.a[i+1] = aux\n",
    "\n",
    "        return i+1\n",
    "\n",
    "    def randomized_partition(self,p,r):\n",
    "        i = randint(p,r)\n",
    "        aux = self.a[r]\n",
    "        self.a[r] = self.a[i]\n",
    "        self.a[i] = aux\n",
    "        return self.partition(p,r)\n",
    "\n",
    "    def quicksort(self,p,r):\n",
    "        if p < r:\n",
    "            q = self.randomized_partition(p,r)\n",
    "            self.quicksort(p,q-1)\n",
    "            self.quicksort(q+1,r)"
   ]
  },
  {
   "cell_type": "markdown",
   "metadata": {},
   "source": [
    "## Main module"
   ]
  },
  {
   "cell_type": "code",
   "execution_count": 14,
   "metadata": {},
   "outputs": [],
   "source": [
    "a = [5,1,4,2,3]"
   ]
  },
  {
   "cell_type": "code",
   "execution_count": 11,
   "metadata": {},
   "outputs": [
    {
     "data": {
      "text/plain": [
       "[1, 2, 3, 4, 5]"
      ]
     },
     "execution_count": 11,
     "metadata": {},
     "output_type": "execute_result"
    }
   ],
   "source": [
    "insertion_sort(a)\n",
    "a"
   ]
  },
  {
   "cell_type": "code",
   "execution_count": 15,
   "metadata": {},
   "outputs": [
    {
     "data": {
      "text/plain": [
       "[1, 2, 3, 4, 5]"
      ]
     },
     "execution_count": 15,
     "metadata": {},
     "output_type": "execute_result"
    }
   ],
   "source": [
    "merst = Merge(a)\n",
    "merst.merge_sort(0,len(a)-1)\n",
    "a"
   ]
  },
  {
   "cell_type": "code",
   "execution_count": 16,
   "metadata": {},
   "outputs": [
    {
     "data": {
      "text/plain": [
       "[1, 2, 3, 4, 5]"
      ]
     },
     "execution_count": 16,
     "metadata": {},
     "output_type": "execute_result"
    }
   ],
   "source": [
    "heapsrt = Max_Heap(a)\n",
    "heapsrt.heap_sort()\n",
    "a"
   ]
  },
  {
   "cell_type": "code",
   "execution_count": 17,
   "metadata": {},
   "outputs": [
    {
     "data": {
      "text/plain": [
       "[1, 2, 3, 4, 5]"
      ]
     },
     "execution_count": 17,
     "metadata": {},
     "output_type": "execute_result"
    }
   ],
   "source": [
    "quicks = Quick_sort(a)\n",
    "quicks.quicksort(0,len(a)-1)\n",
    "a"
   ]
  },
  {
   "cell_type": "code",
   "execution_count": null,
   "metadata": {},
   "outputs": [],
   "source": []
  }
 ],
 "metadata": {
  "kernelspec": {
   "display_name": "Python 3",
   "language": "python",
   "name": "python3"
  },
  "language_info": {
   "codemirror_mode": {
    "name": "ipython",
    "version": 3
   },
   "file_extension": ".py",
   "mimetype": "text/x-python",
   "name": "python",
   "nbconvert_exporter": "python",
   "pygments_lexer": "ipython3",
   "version": "3.8.1"
  }
 },
 "nbformat": 4,
 "nbformat_minor": 4
}
